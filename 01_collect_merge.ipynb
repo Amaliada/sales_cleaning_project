{
 "cells": [
  {
   "cell_type": "markdown",
   "id": "6d989019-eecd-4846-bd87-8bdc42f38553",
   "metadata": {},
   "source": [
    "# 01 — Collect & Merge (Ingestia datelor)\n",
    "\n",
    "**Scop:** colectez date brute din surse multiple, aliniez denumirile de coloane (schema) și salvez rezultate **intermediare** în format Parquet.  \n",
    "**De ce:** separ ingestia de curățare, fac pașii reproductibili și mai rapizi.\n",
    "\n",
    "**Surse:**\n",
    "- `data/raw/products_master.csv`\n",
    "- `data/raw/promotions.csv`\n",
    "- `data/raw/customers.csv`\n",
    "- `data/raw/transactions_systemA.csv`\n",
    "- `data/raw/transactions_systemB.xlsx` (foaie: `sales`)\n",
    "\n",
    "**Output (interim):**\n",
    "- `data/interim/products.parquet`, `promotions.parquet`, `customers.parquet`,\n",
    "- `data/interim/tx_systemA.parquet`, `tx_systemB.parquet`."
   ]
  },
  {
   "cell_type": "code",
   "execution_count": 1,
   "id": "10887adc-a44d-4de3-a568-edd713a08384",
   "metadata": {},
   "outputs": [],
   "source": [
    "from pathlib import Path"
   ]
  },
  {
   "cell_type": "code",
   "execution_count": 2,
   "id": "85f2d354-81ce-4219-a1bc-e38bc382a8e0",
   "metadata": {},
   "outputs": [],
   "source": [
    "import pandas as pd"
   ]
  },
  {
   "cell_type": "code",
   "execution_count": 3,
   "id": "1eea2cda-f642-432e-8aab-a239a014b8be",
   "metadata": {},
   "outputs": [],
   "source": [
    "BASE = Path(\".\")\n",
    "RAW = BASE/\"data\"/\"raw\"\n",
    "INTERIM = BASE/\"data\"/\"interim\"\n",
    "INTERIM.mkdir(parents=True, exist_ok=True)"
   ]
  },
  {
   "cell_type": "code",
   "execution_count": 4,
   "id": "00ce8009-e793-47b0-b312-0755393ec185",
   "metadata": {},
   "outputs": [
    {
     "data": {
      "text/plain": [
       "[WindowsPath('data/raw/customers.csv'),\n",
       " WindowsPath('data/raw/products_master.csv'),\n",
       " WindowsPath('data/raw/promotions.csv'),\n",
       " WindowsPath('data/raw/transactions_systemA.csv'),\n",
       " WindowsPath('data/raw/transactions_systemB.xlsx')]"
      ]
     },
     "execution_count": 4,
     "metadata": {},
     "output_type": "execute_result"
    }
   ],
   "source": [
    "list(RAW.glob(\"*\"))"
   ]
  },
  {
   "cell_type": "markdown",
   "id": "015b4e46-15c8-4fb0-aa0f-7388cde44531",
   "metadata": {},
   "source": [
    "**Explicație:** definesc folderele de lucru. `RAW` conține fișierele originale,  \n",
    "`INTERIM` va stoca rezultatele standardizate (schema unificată), fără curățări încă."
   ]
  },
  {
   "cell_type": "code",
   "execution_count": 5,
   "id": "b9ee73f3-9f9a-4049-84a1-42019f5099b5",
   "metadata": {},
   "outputs": [
    {
     "name": "stdout",
     "output_type": "stream",
     "text": [
      "\n",
      "== products ==\n"
     ]
    },
    {
     "data": {
      "text/html": [
       "<div>\n",
       "<style scoped>\n",
       "    .dataframe tbody tr th:only-of-type {\n",
       "        vertical-align: middle;\n",
       "    }\n",
       "\n",
       "    .dataframe tbody tr th {\n",
       "        vertical-align: top;\n",
       "    }\n",
       "\n",
       "    .dataframe thead th {\n",
       "        text-align: right;\n",
       "    }\n",
       "</style>\n",
       "<table border=\"1\" class=\"dataframe\">\n",
       "  <thead>\n",
       "    <tr style=\"text-align: right;\">\n",
       "      <th></th>\n",
       "      <th>product_id</th>\n",
       "      <th>product_name</th>\n",
       "      <th>category</th>\n",
       "      <th>unit</th>\n",
       "      <th>list_price</th>\n",
       "      <th>vat</th>\n",
       "    </tr>\n",
       "  </thead>\n",
       "  <tbody>\n",
       "    <tr>\n",
       "      <th>0</th>\n",
       "      <td>P1000</td>\n",
       "      <td>apa light</td>\n",
       "      <td>Baza</td>\n",
       "      <td>buc</td>\n",
       "      <td>53.38</td>\n",
       "      <td>NaN</td>\n",
       "    </tr>\n",
       "    <tr>\n",
       "      <th>1</th>\n",
       "      <td>P1001</td>\n",
       "      <td>Biscuiti Max</td>\n",
       "      <td>Lactate</td>\n",
       "      <td>kg</td>\n",
       "      <td>6.52</td>\n",
       "      <td>0.19</td>\n",
       "    </tr>\n",
       "    <tr>\n",
       "      <th>2</th>\n",
       "      <td>P1002</td>\n",
       "      <td>Ulei Max</td>\n",
       "      <td>Dulciuri</td>\n",
       "      <td>kg</td>\n",
       "      <td>58.82</td>\n",
       "      <td>0.09</td>\n",
       "    </tr>\n",
       "    <tr>\n",
       "      <th>3</th>\n",
       "      <td>P1003</td>\n",
       "      <td>Suc Zero</td>\n",
       "      <td>Dulciuri</td>\n",
       "      <td>set</td>\n",
       "      <td>16.36</td>\n",
       "      <td>NaN</td>\n",
       "    </tr>\n",
       "    <tr>\n",
       "      <th>4</th>\n",
       "      <td>P1004</td>\n",
       "      <td>Ulei Light</td>\n",
       "      <td>Bauturi</td>\n",
       "      <td>kg</td>\n",
       "      <td>45.67</td>\n",
       "      <td>0.05</td>\n",
       "    </tr>\n",
       "  </tbody>\n",
       "</table>\n",
       "</div>"
      ],
      "text/plain": [
       "  product_id  product_name  category unit  list_price   vat\n",
       "0      P1000     apa light      Baza  buc       53.38   NaN\n",
       "1      P1001  Biscuiti Max   Lactate   kg        6.52  0.19\n",
       "2      P1002      Ulei Max  Dulciuri   kg       58.82  0.09\n",
       "3      P1003      Suc Zero  Dulciuri  set       16.36   NaN\n",
       "4      P1004    Ulei Light   Bauturi   kg       45.67  0.05"
      ]
     },
     "metadata": {},
     "output_type": "display_data"
    },
    {
     "name": "stdout",
     "output_type": "stream",
     "text": [
      "<class 'pandas.core.frame.DataFrame'>\n",
      "RangeIndex: 60 entries, 0 to 59\n",
      "Data columns (total 6 columns):\n",
      " #   Column        Non-Null Count  Dtype  \n",
      "---  ------        --------------  -----  \n",
      " 0   product_id    60 non-null     object \n",
      " 1   product_name  60 non-null     object \n",
      " 2   category      60 non-null     object \n",
      " 3   unit          60 non-null     object \n",
      " 4   list_price    60 non-null     float64\n",
      " 5   vat           49 non-null     float64\n",
      "dtypes: float64(2), object(4)\n",
      "memory usage: 2.9+ KB\n"
     ]
    },
    {
     "data": {
      "text/plain": [
       "None"
      ]
     },
     "metadata": {},
     "output_type": "display_data"
    },
    {
     "name": "stdout",
     "output_type": "stream",
     "text": [
      "\n",
      "== promos ==\n"
     ]
    },
    {
     "data": {
      "text/html": [
       "<div>\n",
       "<style scoped>\n",
       "    .dataframe tbody tr th:only-of-type {\n",
       "        vertical-align: middle;\n",
       "    }\n",
       "\n",
       "    .dataframe tbody tr th {\n",
       "        vertical-align: top;\n",
       "    }\n",
       "\n",
       "    .dataframe thead th {\n",
       "        text-align: right;\n",
       "    }\n",
       "</style>\n",
       "<table border=\"1\" class=\"dataframe\">\n",
       "  <thead>\n",
       "    <tr style=\"text-align: right;\">\n",
       "      <th></th>\n",
       "      <th>product_id</th>\n",
       "      <th>start_date</th>\n",
       "      <th>end_date</th>\n",
       "      <th>promo_price</th>\n",
       "      <th>discount_type</th>\n",
       "    </tr>\n",
       "  </thead>\n",
       "  <tbody>\n",
       "    <tr>\n",
       "      <th>0</th>\n",
       "      <td>P1031</td>\n",
       "      <td>25/11/2024</td>\n",
       "      <td>2024/12/13</td>\n",
       "      <td>1,8</td>\n",
       "      <td>NaN</td>\n",
       "    </tr>\n",
       "    <tr>\n",
       "      <th>1</th>\n",
       "      <td>P1020</td>\n",
       "      <td>29/10/2024</td>\n",
       "      <td>2024/11/04</td>\n",
       "      <td>38,46</td>\n",
       "      <td>NaN</td>\n",
       "    </tr>\n",
       "    <tr>\n",
       "      <th>2</th>\n",
       "      <td>P1059</td>\n",
       "      <td>31/10/2024</td>\n",
       "      <td>2024/11/05</td>\n",
       "      <td>12,2</td>\n",
       "      <td>fixed</td>\n",
       "    </tr>\n",
       "    <tr>\n",
       "      <th>3</th>\n",
       "      <td>P1017</td>\n",
       "      <td>22/10/2024</td>\n",
       "      <td>2024/11/03</td>\n",
       "      <td>23,93</td>\n",
       "      <td>fixed</td>\n",
       "    </tr>\n",
       "    <tr>\n",
       "      <th>4</th>\n",
       "      <td>P1010</td>\n",
       "      <td>29/11/2024</td>\n",
       "      <td>2024/12/12</td>\n",
       "      <td>28,42</td>\n",
       "      <td>%</td>\n",
       "    </tr>\n",
       "  </tbody>\n",
       "</table>\n",
       "</div>"
      ],
      "text/plain": [
       "  product_id  start_date    end_date promo_price discount_type\n",
       "0      P1031  25/11/2024  2024/12/13         1,8           NaN\n",
       "1      P1020  29/10/2024  2024/11/04       38,46           NaN\n",
       "2      P1059  31/10/2024  2024/11/05        12,2         fixed\n",
       "3      P1017  22/10/2024  2024/11/03       23,93         fixed\n",
       "4      P1010  29/11/2024  2024/12/12       28,42             %"
      ]
     },
     "metadata": {},
     "output_type": "display_data"
    },
    {
     "name": "stdout",
     "output_type": "stream",
     "text": [
      "<class 'pandas.core.frame.DataFrame'>\n",
      "RangeIndex: 30 entries, 0 to 29\n",
      "Data columns (total 5 columns):\n",
      " #   Column         Non-Null Count  Dtype \n",
      "---  ------         --------------  ----- \n",
      " 0   product_id     30 non-null     object\n",
      " 1   start_date     30 non-null     object\n",
      " 2   end_date       30 non-null     object\n",
      " 3   promo_price    30 non-null     object\n",
      " 4   discount_type  21 non-null     object\n",
      "dtypes: object(5)\n",
      "memory usage: 1.3+ KB\n"
     ]
    },
    {
     "data": {
      "text/plain": [
       "None"
      ]
     },
     "metadata": {},
     "output_type": "display_data"
    },
    {
     "name": "stdout",
     "output_type": "stream",
     "text": [
      "\n",
      "== customers ==\n"
     ]
    },
    {
     "data": {
      "text/html": [
       "<div>\n",
       "<style scoped>\n",
       "    .dataframe tbody tr th:only-of-type {\n",
       "        vertical-align: middle;\n",
       "    }\n",
       "\n",
       "    .dataframe tbody tr th {\n",
       "        vertical-align: top;\n",
       "    }\n",
       "\n",
       "    .dataframe thead th {\n",
       "        text-align: right;\n",
       "    }\n",
       "</style>\n",
       "<table border=\"1\" class=\"dataframe\">\n",
       "  <thead>\n",
       "    <tr style=\"text-align: right;\">\n",
       "      <th></th>\n",
       "      <th>customer_id</th>\n",
       "      <th>customer_name</th>\n",
       "      <th>email</th>\n",
       "      <th>city</th>\n",
       "      <th>segment</th>\n",
       "    </tr>\n",
       "  </thead>\n",
       "  <tbody>\n",
       "    <tr>\n",
       "      <th>0</th>\n",
       "      <td>C2000</td>\n",
       "      <td>Ana Popescu</td>\n",
       "      <td>user5049@example.ro</td>\n",
       "      <td>Brasov</td>\n",
       "      <td>B2B</td>\n",
       "    </tr>\n",
       "    <tr>\n",
       "      <th>1</th>\n",
       "      <td>C2001</td>\n",
       "      <td>Elena Radu</td>\n",
       "      <td>NaN</td>\n",
       "      <td>Timisoara</td>\n",
       "      <td>b2c</td>\n",
       "    </tr>\n",
       "    <tr>\n",
       "      <th>2</th>\n",
       "      <td>C2002</td>\n",
       "      <td>Andrei Marin</td>\n",
       "      <td>user4382@example.ro</td>\n",
       "      <td>Bucuresti</td>\n",
       "      <td>Retail</td>\n",
       "    </tr>\n",
       "    <tr>\n",
       "      <th>3</th>\n",
       "      <td>C2003</td>\n",
       "      <td>Maria Popescu</td>\n",
       "      <td>user5849@example.ro</td>\n",
       "      <td>Timisoara</td>\n",
       "      <td>B2 C</td>\n",
       "    </tr>\n",
       "    <tr>\n",
       "      <th>4</th>\n",
       "      <td>C2004</td>\n",
       "      <td>George Stan</td>\n",
       "      <td>user3462@example.ro</td>\n",
       "      <td>Brasov</td>\n",
       "      <td>B2B</td>\n",
       "    </tr>\n",
       "  </tbody>\n",
       "</table>\n",
       "</div>"
      ],
      "text/plain": [
       "  customer_id  customer_name                email       city segment\n",
       "0       C2000    Ana Popescu  user5049@example.ro     Brasov     B2B\n",
       "1       C2001     Elena Radu                  NaN  Timisoara     b2c\n",
       "2       C2002   Andrei Marin  user4382@example.ro  Bucuresti  Retail\n",
       "3       C2003  Maria Popescu  user5849@example.ro  Timisoara    B2 C\n",
       "4       C2004    George Stan  user3462@example.ro     Brasov     B2B"
      ]
     },
     "metadata": {},
     "output_type": "display_data"
    },
    {
     "name": "stdout",
     "output_type": "stream",
     "text": [
      "<class 'pandas.core.frame.DataFrame'>\n",
      "RangeIndex: 253 entries, 0 to 252\n",
      "Data columns (total 5 columns):\n",
      " #   Column         Non-Null Count  Dtype \n",
      "---  ------         --------------  ----- \n",
      " 0   customer_id    253 non-null    object\n",
      " 1   customer_name  253 non-null    object\n",
      " 2   email          236 non-null    object\n",
      " 3   city           253 non-null    object\n",
      " 4   segment        253 non-null    object\n",
      "dtypes: object(5)\n",
      "memory usage: 10.0+ KB\n"
     ]
    },
    {
     "data": {
      "text/plain": [
       "None"
      ]
     },
     "metadata": {},
     "output_type": "display_data"
    },
    {
     "name": "stdout",
     "output_type": "stream",
     "text": [
      "\n",
      "== tx_a ==\n"
     ]
    },
    {
     "data": {
      "text/html": [
       "<div>\n",
       "<style scoped>\n",
       "    .dataframe tbody tr th:only-of-type {\n",
       "        vertical-align: middle;\n",
       "    }\n",
       "\n",
       "    .dataframe tbody tr th {\n",
       "        vertical-align: top;\n",
       "    }\n",
       "\n",
       "    .dataframe thead th {\n",
       "        text-align: right;\n",
       "    }\n",
       "</style>\n",
       "<table border=\"1\" class=\"dataframe\">\n",
       "  <thead>\n",
       "    <tr style=\"text-align: right;\">\n",
       "      <th></th>\n",
       "      <th>trans_id</th>\n",
       "      <th>timestamp</th>\n",
       "      <th>customer_id</th>\n",
       "      <th>product_id</th>\n",
       "      <th>quantity</th>\n",
       "      <th>unit_price</th>\n",
       "      <th>store</th>\n",
       "    </tr>\n",
       "  </thead>\n",
       "  <tbody>\n",
       "    <tr>\n",
       "      <th>0</th>\n",
       "      <td>T313725</td>\n",
       "      <td>2025-07-14 11:28:00</td>\n",
       "      <td>C2127</td>\n",
       "      <td>P1010</td>\n",
       "      <td>2.0</td>\n",
       "      <td>21.22</td>\n",
       "      <td></td>\n",
       "    </tr>\n",
       "    <tr>\n",
       "      <th>1</th>\n",
       "      <td>T426596</td>\n",
       "      <td>2025-04-23 10:55:00</td>\n",
       "      <td>C2189</td>\n",
       "      <td>P1003</td>\n",
       "      <td>3.0</td>\n",
       "      <td>14.02</td>\n",
       "      <td>Store-01</td>\n",
       "    </tr>\n",
       "    <tr>\n",
       "      <th>2</th>\n",
       "      <td>T797849</td>\n",
       "      <td>2025-08-16 01:08:00</td>\n",
       "      <td>C2057</td>\n",
       "      <td>P1053</td>\n",
       "      <td>3.0</td>\n",
       "      <td>38.66</td>\n",
       "      <td>shop_03</td>\n",
       "    </tr>\n",
       "    <tr>\n",
       "      <th>3</th>\n",
       "      <td>T611504</td>\n",
       "      <td>2025-01-12 04:49:00</td>\n",
       "      <td>C2097</td>\n",
       "      <td>P1028</td>\n",
       "      <td>1.0</td>\n",
       "      <td>12.6</td>\n",
       "      <td>Store-01</td>\n",
       "    </tr>\n",
       "    <tr>\n",
       "      <th>4</th>\n",
       "      <td>T661334</td>\n",
       "      <td>2025-04-04 23:30:00</td>\n",
       "      <td>C2123</td>\n",
       "      <td>P1012</td>\n",
       "      <td>1.0</td>\n",
       "      <td>10,49</td>\n",
       "      <td>Online</td>\n",
       "    </tr>\n",
       "  </tbody>\n",
       "</table>\n",
       "</div>"
      ],
      "text/plain": [
       "  trans_id            timestamp customer_id product_id  quantity unit_price  \\\n",
       "0  T313725  2025-07-14 11:28:00       C2127      P1010       2.0      21.22   \n",
       "1  T426596  2025-04-23 10:55:00       C2189      P1003       3.0      14.02   \n",
       "2  T797849  2025-08-16 01:08:00       C2057      P1053       3.0      38.66   \n",
       "3  T611504  2025-01-12 04:49:00       C2097      P1028       1.0       12.6   \n",
       "4  T661334  2025-04-04 23:30:00       C2123      P1012       1.0      10,49   \n",
       "\n",
       "      store  \n",
       "0            \n",
       "1  Store-01  \n",
       "2   shop_03  \n",
       "3  Store-01  \n",
       "4    Online  "
      ]
     },
     "metadata": {},
     "output_type": "display_data"
    },
    {
     "name": "stdout",
     "output_type": "stream",
     "text": [
      "<class 'pandas.core.frame.DataFrame'>\n",
      "RangeIndex: 900 entries, 0 to 899\n",
      "Data columns (total 7 columns):\n",
      " #   Column       Non-Null Count  Dtype  \n",
      "---  ------       --------------  -----  \n",
      " 0   trans_id     900 non-null    object \n",
      " 1   timestamp    900 non-null    object \n",
      " 2   customer_id  900 non-null    object \n",
      " 3   product_id   900 non-null    object \n",
      " 4   quantity     781 non-null    float64\n",
      " 5   unit_price   900 non-null    object \n",
      " 6   store        900 non-null    object \n",
      "dtypes: float64(1), object(6)\n",
      "memory usage: 49.3+ KB\n"
     ]
    },
    {
     "data": {
      "text/plain": [
       "None"
      ]
     },
     "metadata": {},
     "output_type": "display_data"
    },
    {
     "name": "stdout",
     "output_type": "stream",
     "text": [
      "\n",
      "== tx_b ==\n"
     ]
    },
    {
     "data": {
      "text/html": [
       "<div>\n",
       "<style scoped>\n",
       "    .dataframe tbody tr th:only-of-type {\n",
       "        vertical-align: middle;\n",
       "    }\n",
       "\n",
       "    .dataframe tbody tr th {\n",
       "        vertical-align: top;\n",
       "    }\n",
       "\n",
       "    .dataframe thead th {\n",
       "        text-align: right;\n",
       "    }\n",
       "</style>\n",
       "<table border=\"1\" class=\"dataframe\">\n",
       "  <thead>\n",
       "    <tr style=\"text-align: right;\">\n",
       "      <th></th>\n",
       "      <th>id</th>\n",
       "      <th>cust_id</th>\n",
       "      <th>sku</th>\n",
       "      <th>qty</th>\n",
       "      <th>date</th>\n",
       "      <th>location</th>\n",
       "      <th>payment_method</th>\n",
       "    </tr>\n",
       "  </thead>\n",
       "  <tbody>\n",
       "    <tr>\n",
       "      <th>0</th>\n",
       "      <td>T964964</td>\n",
       "      <td>C2089</td>\n",
       "      <td>P1051</td>\n",
       "      <td>1.0</td>\n",
       "      <td>17.02.2025</td>\n",
       "      <td>Magazine</td>\n",
       "      <td>card</td>\n",
       "    </tr>\n",
       "    <tr>\n",
       "      <th>1</th>\n",
       "      <td>T273350</td>\n",
       "      <td>C2118</td>\n",
       "      <td>P1047</td>\n",
       "      <td>1.0</td>\n",
       "      <td>22.07.2025</td>\n",
       "      <td>Magazine</td>\n",
       "      <td>voucher</td>\n",
       "    </tr>\n",
       "    <tr>\n",
       "      <th>2</th>\n",
       "      <td>T107111</td>\n",
       "      <td>C2121</td>\n",
       "      <td>P1021</td>\n",
       "      <td>1.0</td>\n",
       "      <td>23.05.2025</td>\n",
       "      <td>Depozit1</td>\n",
       "      <td>card</td>\n",
       "    </tr>\n",
       "    <tr>\n",
       "      <th>3</th>\n",
       "      <td>T566879</td>\n",
       "      <td>C2072</td>\n",
       "      <td>P1029</td>\n",
       "      <td>-1.0</td>\n",
       "      <td>05.02.2025</td>\n",
       "      <td>Online</td>\n",
       "      <td>voucher</td>\n",
       "    </tr>\n",
       "    <tr>\n",
       "      <th>4</th>\n",
       "      <td>T282912</td>\n",
       "      <td>C2182</td>\n",
       "      <td>P1011</td>\n",
       "      <td>10.0</td>\n",
       "      <td>16.03.2025</td>\n",
       "      <td>Online</td>\n",
       "      <td>NaN</td>\n",
       "    </tr>\n",
       "  </tbody>\n",
       "</table>\n",
       "</div>"
      ],
      "text/plain": [
       "        id cust_id    sku   qty        date  location payment_method\n",
       "0  T964964   C2089  P1051   1.0  17.02.2025  Magazine           card\n",
       "1  T273350   C2118  P1047   1.0  22.07.2025  Magazine        voucher\n",
       "2  T107111   C2121  P1021   1.0  23.05.2025  Depozit1           card\n",
       "3  T566879   C2072  P1029  -1.0  05.02.2025    Online        voucher\n",
       "4  T282912   C2182  P1011  10.0  16.03.2025    Online            NaN"
      ]
     },
     "metadata": {},
     "output_type": "display_data"
    },
    {
     "name": "stdout",
     "output_type": "stream",
     "text": [
      "<class 'pandas.core.frame.DataFrame'>\n",
      "RangeIndex: 700 entries, 0 to 699\n",
      "Data columns (total 7 columns):\n",
      " #   Column          Non-Null Count  Dtype  \n",
      "---  ------          --------------  -----  \n",
      " 0   id              700 non-null    object \n",
      " 1   cust_id         700 non-null    object \n",
      " 2   sku             700 non-null    object \n",
      " 3   qty             616 non-null    float64\n",
      " 4   date            700 non-null    object \n",
      " 5   location        700 non-null    object \n",
      " 6   payment_method  544 non-null    object \n",
      "dtypes: float64(1), object(6)\n",
      "memory usage: 38.4+ KB\n"
     ]
    },
    {
     "data": {
      "text/plain": [
       "None"
      ]
     },
     "metadata": {},
     "output_type": "display_data"
    }
   ],
   "source": [
    "products = pd.read_csv(RAW/\"products_master.csv\")\n",
    "promos = pd.read_csv(RAW/\"promotions.csv\")\n",
    "customers = pd.read_csv(RAW/\"customers.csv\")\n",
    "tx_a = pd.read_csv(RAW/\"transactions_systemA.csv\")\n",
    "tx_b = pd.read_excel(RAW/\"transactions_systemB.xlsx\", sheet_name=\"sales\")\n",
    "\n",
    "for name, df in {\"products\":products,\"promos\":promos,\"customers\":customers,\"tx_a\":tx_a,\"tx_b\":tx_b}.items():\n",
    "    print(f\"\\n== {name} ==\")\n",
    "    display(df.head())\n",
    "    display(df.info())"
   ]
  },
  {
   "cell_type": "markdown",
   "id": "5cb92fea-5958-497d-a855-26ecf2986c7f",
   "metadata": {},
   "source": [
    "**Explicație:** încarc toate tabelele brute în DataFrame-uri și verific:\n",
    "- tipurile de date (text/număr/dată),\n",
    "- valori lipsă evidente,\n",
    "- dacă denumirile de coloane sunt coerente între sisteme."
   ]
  },
  {
   "cell_type": "code",
   "execution_count": 6,
   "id": "1ce02c88-c716-459c-8f3b-4d94cf11f00e",
   "metadata": {},
   "outputs": [
    {
     "data": {
      "text/html": [
       "<div>\n",
       "<style scoped>\n",
       "    .dataframe tbody tr th:only-of-type {\n",
       "        vertical-align: middle;\n",
       "    }\n",
       "\n",
       "    .dataframe tbody tr th {\n",
       "        vertical-align: top;\n",
       "    }\n",
       "\n",
       "    .dataframe thead th {\n",
       "        text-align: right;\n",
       "    }\n",
       "</style>\n",
       "<table border=\"1\" class=\"dataframe\">\n",
       "  <thead>\n",
       "    <tr style=\"text-align: right;\">\n",
       "      <th></th>\n",
       "      <th>trans_id</th>\n",
       "      <th>customer_id</th>\n",
       "      <th>product_id</th>\n",
       "      <th>quantity</th>\n",
       "      <th>timestamp</th>\n",
       "      <th>store</th>\n",
       "      <th>payment_method</th>\n",
       "    </tr>\n",
       "  </thead>\n",
       "  <tbody>\n",
       "    <tr>\n",
       "      <th>0</th>\n",
       "      <td>T964964</td>\n",
       "      <td>C2089</td>\n",
       "      <td>P1051</td>\n",
       "      <td>1.0</td>\n",
       "      <td>17.02.2025</td>\n",
       "      <td>Magazine</td>\n",
       "      <td>card</td>\n",
       "    </tr>\n",
       "    <tr>\n",
       "      <th>1</th>\n",
       "      <td>T273350</td>\n",
       "      <td>C2118</td>\n",
       "      <td>P1047</td>\n",
       "      <td>1.0</td>\n",
       "      <td>22.07.2025</td>\n",
       "      <td>Magazine</td>\n",
       "      <td>voucher</td>\n",
       "    </tr>\n",
       "    <tr>\n",
       "      <th>2</th>\n",
       "      <td>T107111</td>\n",
       "      <td>C2121</td>\n",
       "      <td>P1021</td>\n",
       "      <td>1.0</td>\n",
       "      <td>23.05.2025</td>\n",
       "      <td>Depozit1</td>\n",
       "      <td>card</td>\n",
       "    </tr>\n",
       "    <tr>\n",
       "      <th>3</th>\n",
       "      <td>T566879</td>\n",
       "      <td>C2072</td>\n",
       "      <td>P1029</td>\n",
       "      <td>-1.0</td>\n",
       "      <td>05.02.2025</td>\n",
       "      <td>Online</td>\n",
       "      <td>voucher</td>\n",
       "    </tr>\n",
       "    <tr>\n",
       "      <th>4</th>\n",
       "      <td>T282912</td>\n",
       "      <td>C2182</td>\n",
       "      <td>P1011</td>\n",
       "      <td>10.0</td>\n",
       "      <td>16.03.2025</td>\n",
       "      <td>Online</td>\n",
       "      <td>NaN</td>\n",
       "    </tr>\n",
       "  </tbody>\n",
       "</table>\n",
       "</div>"
      ],
      "text/plain": [
       "  trans_id customer_id product_id  quantity   timestamp     store  \\\n",
       "0  T964964       C2089      P1051       1.0  17.02.2025  Magazine   \n",
       "1  T273350       C2118      P1047       1.0  22.07.2025  Magazine   \n",
       "2  T107111       C2121      P1021       1.0  23.05.2025  Depozit1   \n",
       "3  T566879       C2072      P1029      -1.0  05.02.2025    Online   \n",
       "4  T282912       C2182      P1011      10.0  16.03.2025    Online   \n",
       "\n",
       "  payment_method  \n",
       "0           card  \n",
       "1        voucher  \n",
       "2           card  \n",
       "3        voucher  \n",
       "4            NaN  "
      ]
     },
     "execution_count": 6,
     "metadata": {},
     "output_type": "execute_result"
    }
   ],
   "source": [
    "tx_b = tx_b.rename(columns={\n",
    "    \"id\":\"trans_id\",\n",
    "    \"cust_id\":\"customer_id\",\n",
    "    \"sku\":\"product_id\",\n",
    "    \"qty\":\"quantity\",\n",
    "    \"date\":\"timestamp\",\n",
    "    \"location\":\"store\"\n",
    "})\n",
    "tx_b.head()"
   ]
  },
  {
   "cell_type": "markdown",
   "id": "707b45a3-015e-4594-9863-66ef0361d0d4",
   "metadata": {},
   "source": [
    "**Explicație:** cele două sisteme (A/B) folosesc denumiri diferite.  \n",
    "Le uniformizez pe un **nume standard** (schema comună) ca să pot concatena / analiza împreună:\n",
    "- `trans_id`, `customer_id`, `product_id`, `quantity`, `timestamp`, `store`.\n"
   ]
  },
  {
   "cell_type": "code",
   "execution_count": 7,
   "id": "1aadd519-b2ae-491d-8395-15299e4e9529",
   "metadata": {},
   "outputs": [
    {
     "name": "stdout",
     "output_type": "stream",
     "text": [
      "Interim files saved in: data\\interim\n"
     ]
    }
   ],
   "source": [
    "products.to_parquet(INTERIM/\"products.parquet\", index=False)\n",
    "promos.to_parquet(INTERIM/\"promotions.parquet\", index=False)\n",
    "customers.to_parquet(INTERIM/\"customers.parquet\", index=False)\n",
    "tx_a.to_parquet(INTERIM/\"tx_systemA.parquet\", index=False)\n",
    "tx_b.to_parquet(INTERIM/\"tx_systemB.parquet\", index=False)\n",
    "print(\"Interim files saved in:\", INTERIM)"
   ]
  },
  {
   "cell_type": "markdown",
   "id": "cfa8ee1b-d7af-4471-a79b-badb325fc668",
   "metadata": {},
   "source": [
    "**Explicație:** salvez rezultatele în **Parquet**:\n",
    "- compresie mai bună decât CSV,\n",
    "- citire/scriere rapidă,\n",
    "- păstrează tipurile de date mai bine.\n",
    "Aceste fișiere sunt punctul de plecare pentru pasul **02_Cleaning**.\n"
   ]
  },
  {
   "cell_type": "markdown",
   "id": "613b6102-da73-4cf2-9b45-d8584b141c25",
   "metadata": {},
   "source": [
    "### Concluzie 01\n",
    "- Sursele au fost încărcate corect.\n",
    "- Am aliniat schema pentru tranzacțiile din system B la standardul comun.\n",
    "- Am salvat tabelele intermediare în `data/interim/`.\n",
    "\n",
    "**Pasul următor (02_Cleaning):**\n",
    "- conversie prețuri (`,`, `.`, „RON”),\n",
    "- standardizare date calendaristice,\n",
    "- tratament valori lipsă/negative,\n",
    "- deduplicare,\n",
    "- concatenare tranzacții A+B și join cu `products`/`customers`,\n",
    "- (opțional) atașare promo activă la data tranzacției.\n"
   ]
  }
 ],
 "metadata": {
  "kernelspec": {
   "display_name": "Python 3 (ipykernel)",
   "language": "python",
   "name": "python3"
  },
  "language_info": {
   "codemirror_mode": {
    "name": "ipython",
    "version": 3
   },
   "file_extension": ".py",
   "mimetype": "text/x-python",
   "name": "python",
   "nbconvert_exporter": "python",
   "pygments_lexer": "ipython3",
   "version": "3.12.2"
  }
 },
 "nbformat": 4,
 "nbformat_minor": 5
}
