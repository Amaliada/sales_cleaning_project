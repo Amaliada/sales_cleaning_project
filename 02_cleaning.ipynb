{
 "cells": [
  {
   "cell_type": "markdown",
   "id": "7137aa6e-21eb-4ba4-9564-c94249423cbf",
   "metadata": {},
   "source": [
    "# 02 — Cleaning (Curățarea datelor)\n",
    "\n",
    "**Obiectiv:** standardizez tipuri, curăț valori lipsă/aberante, deduplicate, unific tranzacțiile A+B și le leg cu tabelele de dimensiuni (`products`, `customers`).  \n",
    "**La final:** salvez `data/processed/sales_clean.parquet` + `sample_sales.csv` (eșantion mic pt. Git).\n",
    "\n",
    "**Pași:**\n",
    "1) Conversii numerice (`,`, `.`, sufixe `RON/lei`).\n",
    "2) Conversii de dată (formate amestecate).\n",
    "3) Tratare valori lipsă / negative.\n",
    "4) Deduplicare.\n",
    "5) Join cu `products` & `customers`.\n",
    "6) (Opțional) preț promo activ la data tranzacției.\n",
    "7) Export final + verificări rapide (QA)."
   ]
  },
  {
   "cell_type": "code",
   "execution_count": 1,
   "id": "44279825-1ed0-4020-bf9d-12507b3a8812",
   "metadata": {},
   "outputs": [
    {
     "data": {
      "text/plain": [
       "(60, 30, 253, 900, 700)"
      ]
     },
     "execution_count": 1,
     "metadata": {},
     "output_type": "execute_result"
    }
   ],
   "source": [
    "from pathlib import Path\n",
    "import pandas as pd\n",
    "import numpy as np\n",
    "\n",
    "INTERIM = Path(\"data/interim\")\n",
    "PROCESSED = Path(\"data/processed\")\n",
    "PROCESSED.mkdir(parents=True, exist_ok=True)\n",
    "\n",
    "products  = pd.read_parquet(INTERIM/\"products.parquet\")\n",
    "promos    = pd.read_parquet(INTERIM/\"promotions.parquet\")\n",
    "customers = pd.read_parquet(INTERIM/\"customers.parquet\")\n",
    "tx_a      = pd.read_parquet(INTERIM/\"tx_systemA.parquet\")\n",
    "tx_b      = pd.read_parquet(INTERIM/\"tx_systemB.parquet\")\n",
    "\n",
    "len(products), len(promos), len(customers), len(tx_a), len(tx_b)"
   ]
  },
  {
   "cell_type": "markdown",
   "id": "8f0b965b-d8cd-48b9-9ca9-bf0fd1f60e0b",
   "metadata": {},
   "source": [
    "**Explicație:** lucrez pe copiile intermediare (`.parquet`) create în pasul 01; sursele brute rămân nemodificate."
   ]
  },
  {
   "cell_type": "code",
   "execution_count": 2,
   "id": "383b19ec-a1da-492a-8ff5-44a7162546b1",
   "metadata": {},
   "outputs": [],
   "source": [
    "import re\n",
    "\n",
    "def normalize_ws(x):\n",
    "    \"\"\"Normalizează spațiile multiple -> unul și taie la capete.\"\"\"\n",
    "    if pd.isna(x): return x\n",
    "    return re.sub(r\"\\s+\", \" \", str(x)).strip()\n",
    "\n",
    "def to_float_mixed(x):\n",
    "    \"\"\"\n",
    "    Convertește string-uri cu ,/. și sufixe ('RON', 'lei') în float.\n",
    "    Suportă '1.234,56', '123,45', '123.45', '12,34 RON'.\n",
    "    \"\"\"\n",
    "    if pd.isna(x): \n",
    "        return np.nan\n",
    "    s = str(x).strip()\n",
    "    s = s.replace(\"RON\",\"\").replace(\"lei\",\"\").strip()\n",
    "    if s.count(\",\") == 1 and s.count(\".\") > 0:\n",
    "        # mii cu punct + zecimale cu virgulă\n",
    "        s = s.replace(\".\", \"\").replace(\",\", \".\")\n",
    "    elif s.count(\",\") == 1 and s.count(\".\") == 0:\n",
    "        # doar virgulă zecimală\n",
    "        s = s.replace(\",\", \".\")\n",
    "    try:\n",
    "        return float(s)\n",
    "    except:\n",
    "        return np.nan\n"
   ]
  },
  {
   "cell_type": "code",
   "execution_count": 3,
   "id": "8254b497-eaa3-45e1-9594-f896fd99b95b",
   "metadata": {},
   "outputs": [
    {
     "name": "stdout",
     "output_type": "stream",
     "text": [
      "<class 'pandas.core.frame.DataFrame'>\n",
      "RangeIndex: 60 entries, 0 to 59\n",
      "Data columns (total 6 columns):\n",
      " #   Column        Non-Null Count  Dtype  \n",
      "---  ------        --------------  -----  \n",
      " 0   product_id    60 non-null     object \n",
      " 1   product_name  60 non-null     object \n",
      " 2   category      60 non-null     object \n",
      " 3   unit          60 non-null     object \n",
      " 4   list_price    60 non-null     float64\n",
      " 5   vat           49 non-null     float64\n",
      "dtypes: float64(2), object(4)\n",
      "memory usage: 2.9+ KB\n"
     ]
    }
   ],
   "source": [
    "products[\"product_name\"] = products[\"product_name\"].map(normalize_ws)\n",
    "products[\"category\"]     = products[\"category\"].map(normalize_ws).fillna(\"NECUNOSCUT\")\n",
    "products[\"unit\"]         = products[\"unit\"].astype(str).str.strip().replace({\"piece\":\"buc\",\" piece \":\"buc\"})\n",
    "products[\"list_price\"]   = products[\"list_price\"].apply(to_float_mixed)\n",
    "\n",
    "# produs unic după cheie\n",
    "products = products.drop_duplicates(subset=[\"product_id\"])\n",
    "products.info()\n"
   ]
  },
  {
   "cell_type": "markdown",
   "id": "b36d9d9e-19ac-44a4-96f0-2d8c1ae7620f",
   "metadata": {},
   "source": [
    "**Explicație:** standardizez textul/diacriticele, unific unitățile și transform `list_price` în `float`. Elimin dublurile pe `product_id`.\n"
   ]
  },
  {
   "cell_type": "code",
   "execution_count": 5,
   "id": "21011883-eb42-4ff9-835e-b9545b99c70f",
   "metadata": {},
   "outputs": [
    {
     "name": "stdout",
     "output_type": "stream",
     "text": [
      "<class 'pandas.core.frame.DataFrame'>\n",
      "RangeIndex: 30 entries, 0 to 29\n",
      "Data columns (total 5 columns):\n",
      " #   Column         Non-Null Count  Dtype         \n",
      "---  ------         --------------  -----         \n",
      " 0   product_id     30 non-null     object        \n",
      " 1   start_date     30 non-null     datetime64[ns]\n",
      " 2   end_date       30 non-null     datetime64[ns]\n",
      " 3   promo_price    30 non-null     float64       \n",
      " 4   discount_type  21 non-null     object        \n",
      "dtypes: datetime64[ns](2), float64(1), object(2)\n",
      "memory usage: 1.3+ KB\n"
     ]
    }
   ],
   "source": [
    "promos[\"promo_price\"] = promos[\"promo_price\"].apply(to_float_mixed)\n",
    "promos[\"start_date\"]  = pd.to_datetime(promos[\"start_date\"], format=\"%d/%m/%Y\", errors=\"coerce\")\n",
    "promos[\"end_date\"]    = pd.to_datetime(promos[\"end_date\"],   format=\"%d/%m/%Y\", errors=\"coerce\")\n",
    "\n",
    "# elimin promoții invalide și intervale inverse\n",
    "promos = promos.dropna(subset=[\"product_id\",\"promo_price\",\"start_date\",\"end_date\"])\n",
    "promos = promos[promos[\"end_date\"] >= promos[\"start_date\"]]\n",
    "promos.info()\n"
   ]
  },
  {
   "cell_type": "code",
   "execution_count": 7,
   "id": "2d173b67-4a3a-4c2b-b5d4-db5144cd961c",
   "metadata": {},
   "outputs": [
    {
     "name": "stdout",
     "output_type": "stream",
     "text": [
      "<class 'pandas.core.frame.DataFrame'>\n",
      "Index: 675 entries, 0 to 899\n",
      "Data columns (total 8 columns):\n",
      " #   Column          Non-Null Count  Dtype         \n",
      "---  ------          --------------  -----         \n",
      " 0   trans_id        675 non-null    object        \n",
      " 1   timestamp       675 non-null    datetime64[ns]\n",
      " 2   customer_id     675 non-null    object        \n",
      " 3   product_id      675 non-null    object        \n",
      " 4   quantity        675 non-null    float64       \n",
      " 5   unit_price      675 non-null    float64       \n",
      " 6   store           675 non-null    object        \n",
      " 7   payment_method  0 non-null      object        \n",
      "dtypes: datetime64[ns](1), float64(2), object(5)\n",
      "memory usage: 47.5+ KB\n"
     ]
    }
   ],
   "source": [
    "# === Unesc A + B (schema a fost aliniată în 01) ===\n",
    "tx = pd.concat([tx_a, tx_b], ignore_index=True, sort=False)\n",
    "\n",
    "# --- Parsare robustă pentru timestamp din A și B ---\n",
    "col = \"timestamp\"\n",
    "tx[col] = tx[col].astype(str)  # asigur că sunt stringuri\n",
    "\n",
    "# System A: are oră, format \"%Y-%m-%d %H:%M:%S\"\n",
    "mask_a = tx[col].str.contains(\":\", na=False)\n",
    "\n",
    "ts = pd.Series(pd.NaT, index=tx.index, dtype=\"datetime64[ns]\")\n",
    "ts.loc[mask_a] = pd.to_datetime(\n",
    "    tx.loc[mask_a, col],\n",
    "    format=\"%Y-%m-%d %H:%M:%S\",\n",
    "    errors=\"coerce\"\n",
    ")\n",
    "\n",
    "# System B: restul, format \"%d.%m.%Y\"\n",
    "mask_b = ts.isna()\n",
    "ts.loc[mask_b] = pd.to_datetime(\n",
    "    tx.loc[mask_b, col],\n",
    "    format=\"%d.%m.%Y\",\n",
    "    errors=\"coerce\"\n",
    ")\n",
    "\n",
    "tx[\"timestamp\"] = ts\n",
    "\n",
    "# === Tipuri corecte pe celelalte coloane ===\n",
    "tx[\"unit_price\"] = tx[\"unit_price\"].apply(to_float_mixed)\n",
    "tx[\"quantity\"]   = pd.to_numeric(tx[\"quantity\"], errors=\"coerce\")\n",
    "\n",
    "# === Reguli de validare ===\n",
    "tx.loc[tx[\"quantity\"] <= 0, \"quantity\"] = np.nan   # cantități negative/zero -> invalide\n",
    "tx = tx.dropna(subset=[\"customer_id\",\"product_id\",\"quantity\",\"unit_price\",\"timestamp\"])\n",
    "\n",
    "# === Deduplicare (cheie compusă) ===\n",
    "tx = tx.drop_duplicates(\n",
    "    subset=[\"trans_id\",\"customer_id\",\"product_id\",\"timestamp\"],\n",
    "    keep=\"first\"\n",
    ")\n",
    "\n",
    "tx.info()"
   ]
  },
  {
   "cell_type": "markdown",
   "id": "e417e65a-ff1a-4338-a180-2e36a0772035",
   "metadata": {},
   "source": [
    "**Explicație:** standardizez tipurile, invalidez cantitățile ≤ 0, elimin rânduri cu lipsuri critice și deduplicate pe o cheie compusă.\n"
   ]
  },
  {
   "cell_type": "code",
   "execution_count": 8,
   "id": "3e27d7b1-4ec8-4464-8529-e2870155334f",
   "metadata": {},
   "outputs": [
    {
     "data": {
      "text/html": [
       "<div>\n",
       "<style scoped>\n",
       "    .dataframe tbody tr th:only-of-type {\n",
       "        vertical-align: middle;\n",
       "    }\n",
       "\n",
       "    .dataframe tbody tr th {\n",
       "        vertical-align: top;\n",
       "    }\n",
       "\n",
       "    .dataframe thead th {\n",
       "        text-align: right;\n",
       "    }\n",
       "</style>\n",
       "<table border=\"1\" class=\"dataframe\">\n",
       "  <thead>\n",
       "    <tr style=\"text-align: right;\">\n",
       "      <th></th>\n",
       "      <th>trans_id</th>\n",
       "      <th>timestamp</th>\n",
       "      <th>customer_id</th>\n",
       "      <th>product_id</th>\n",
       "      <th>quantity</th>\n",
       "      <th>unit_price</th>\n",
       "      <th>store</th>\n",
       "      <th>payment_method</th>\n",
       "      <th>product_name</th>\n",
       "      <th>category</th>\n",
       "      <th>unit</th>\n",
       "      <th>list_price</th>\n",
       "      <th>vat</th>\n",
       "      <th>customer_name</th>\n",
       "      <th>email</th>\n",
       "      <th>city</th>\n",
       "      <th>segment</th>\n",
       "    </tr>\n",
       "  </thead>\n",
       "  <tbody>\n",
       "    <tr>\n",
       "      <th>0</th>\n",
       "      <td>T313725</td>\n",
       "      <td>2025-07-14 11:28:00</td>\n",
       "      <td>C2127</td>\n",
       "      <td>P1010</td>\n",
       "      <td>2.0</td>\n",
       "      <td>21.22</td>\n",
       "      <td></td>\n",
       "      <td>NaN</td>\n",
       "      <td>Ceai Eco</td>\n",
       "      <td>Bauturi</td>\n",
       "      <td>buc</td>\n",
       "      <td>21.93</td>\n",
       "      <td>0.09</td>\n",
       "      <td>Andrei Radu</td>\n",
       "      <td>user3327@example.ro</td>\n",
       "      <td>Iasi</td>\n",
       "      <td>B2C</td>\n",
       "    </tr>\n",
       "    <tr>\n",
       "      <th>1</th>\n",
       "      <td>T426596</td>\n",
       "      <td>2025-04-23 10:55:00</td>\n",
       "      <td>C2189</td>\n",
       "      <td>P1003</td>\n",
       "      <td>3.0</td>\n",
       "      <td>14.02</td>\n",
       "      <td>Store-01</td>\n",
       "      <td>NaN</td>\n",
       "      <td>Suc Zero</td>\n",
       "      <td>Dulciuri</td>\n",
       "      <td>set</td>\n",
       "      <td>16.36</td>\n",
       "      <td>NaN</td>\n",
       "      <td>Elena Marin</td>\n",
       "      <td>user1087@example.ro</td>\n",
       "      <td>Brasov</td>\n",
       "      <td>RETAIL</td>\n",
       "    </tr>\n",
       "    <tr>\n",
       "      <th>2</th>\n",
       "      <td>T797849</td>\n",
       "      <td>2025-08-16 01:08:00</td>\n",
       "      <td>C2057</td>\n",
       "      <td>P1053</td>\n",
       "      <td>3.0</td>\n",
       "      <td>38.66</td>\n",
       "      <td>shop_03</td>\n",
       "      <td>NaN</td>\n",
       "      <td>Apa Premium</td>\n",
       "      <td>-</td>\n",
       "      <td>buc</td>\n",
       "      <td>38.16</td>\n",
       "      <td>0.05</td>\n",
       "      <td>George Radu</td>\n",
       "      <td>user4647@example.ro</td>\n",
       "      <td>Cluj-Napoca</td>\n",
       "      <td>B2C</td>\n",
       "    </tr>\n",
       "  </tbody>\n",
       "</table>\n",
       "</div>"
      ],
      "text/plain": [
       "  trans_id           timestamp customer_id product_id  quantity  unit_price  \\\n",
       "0  T313725 2025-07-14 11:28:00       C2127      P1010       2.0       21.22   \n",
       "1  T426596 2025-04-23 10:55:00       C2189      P1003       3.0       14.02   \n",
       "2  T797849 2025-08-16 01:08:00       C2057      P1053       3.0       38.66   \n",
       "\n",
       "      store payment_method product_name  category unit  list_price   vat  \\\n",
       "0                      NaN     Ceai Eco   Bauturi  buc       21.93  0.09   \n",
       "1  Store-01            NaN     Suc Zero  Dulciuri  set       16.36   NaN   \n",
       "2   shop_03            NaN  Apa Premium         -  buc       38.16  0.05   \n",
       "\n",
       "  customer_name                email         city segment  \n",
       "0   Andrei Radu  user3327@example.ro         Iasi     B2C  \n",
       "1   Elena Marin  user1087@example.ro       Brasov  RETAIL  \n",
       "2   George Radu  user4647@example.ro  Cluj-Napoca     B2C  "
      ]
     },
     "execution_count": 8,
     "metadata": {},
     "output_type": "execute_result"
    }
   ],
   "source": [
    "df = (tx\n",
    "      .merge(products,  on=\"product_id\", how=\"left\", suffixes=(\"\",\"_prod\"))\n",
    "      .merge(customers, on=\"customer_id\", how=\"left\", suffixes=(\"\",\"_cust\"))\n",
    "     )\n",
    "\n",
    "# normalizări ușoare pe clienti\n",
    "df[\"customer_name\"] = df[\"customer_name\"].map(normalize_ws)\n",
    "df[\"segment\"] = df[\"segment\"].map(lambda s: normalize_ws(s).upper().replace(\" \",\"\") if pd.notna(s) else s)\n",
    "\n",
    "df.head(3)"
   ]
  },
  {
   "cell_type": "code",
   "execution_count": 9,
   "id": "695f1e67-492d-4a1f-b762-c06c991ddcf0",
   "metadata": {},
   "outputs": [
    {
     "data": {
      "text/html": [
       "<div>\n",
       "<style scoped>\n",
       "    .dataframe tbody tr th:only-of-type {\n",
       "        vertical-align: middle;\n",
       "    }\n",
       "\n",
       "    .dataframe tbody tr th {\n",
       "        vertical-align: top;\n",
       "    }\n",
       "\n",
       "    .dataframe thead th {\n",
       "        text-align: right;\n",
       "    }\n",
       "</style>\n",
       "<table border=\"1\" class=\"dataframe\">\n",
       "  <thead>\n",
       "    <tr style=\"text-align: right;\">\n",
       "      <th></th>\n",
       "      <th>unit_price</th>\n",
       "      <th>promo_price</th>\n",
       "      <th>effective_price</th>\n",
       "      <th>quantity</th>\n",
       "      <th>line_amount</th>\n",
       "    </tr>\n",
       "  </thead>\n",
       "  <tbody>\n",
       "    <tr>\n",
       "      <th>0</th>\n",
       "      <td>21.22</td>\n",
       "      <td>NaN</td>\n",
       "      <td>21.22</td>\n",
       "      <td>2.0</td>\n",
       "      <td>42.44</td>\n",
       "    </tr>\n",
       "    <tr>\n",
       "      <th>1</th>\n",
       "      <td>14.02</td>\n",
       "      <td>NaN</td>\n",
       "      <td>14.02</td>\n",
       "      <td>3.0</td>\n",
       "      <td>42.06</td>\n",
       "    </tr>\n",
       "    <tr>\n",
       "      <th>2</th>\n",
       "      <td>38.66</td>\n",
       "      <td>NaN</td>\n",
       "      <td>38.66</td>\n",
       "      <td>3.0</td>\n",
       "      <td>115.98</td>\n",
       "    </tr>\n",
       "    <tr>\n",
       "      <th>3</th>\n",
       "      <td>12.60</td>\n",
       "      <td>NaN</td>\n",
       "      <td>12.60</td>\n",
       "      <td>1.0</td>\n",
       "      <td>12.60</td>\n",
       "    </tr>\n",
       "    <tr>\n",
       "      <th>4</th>\n",
       "      <td>10.49</td>\n",
       "      <td>NaN</td>\n",
       "      <td>10.49</td>\n",
       "      <td>1.0</td>\n",
       "      <td>10.49</td>\n",
       "    </tr>\n",
       "  </tbody>\n",
       "</table>\n",
       "</div>"
      ],
      "text/plain": [
       "   unit_price  promo_price  effective_price  quantity  line_amount\n",
       "0       21.22          NaN            21.22       2.0        42.44\n",
       "1       14.02          NaN            14.02       3.0        42.06\n",
       "2       38.66          NaN            38.66       3.0       115.98\n",
       "3       12.60          NaN            12.60       1.0        12.60\n",
       "4       10.49          NaN            10.49       1.0        10.49"
      ]
     },
     "execution_count": 9,
     "metadata": {},
     "output_type": "execute_result"
    }
   ],
   "source": [
    "# grupăm promoțiile pe produs pentru lookup rapid\n",
    "promos_sorted = promos.sort_values([\"product_id\",\"start_date\"])\n",
    "\n",
    "def promo_lookup_row(row):\n",
    "    p = promos_sorted[promos_sorted[\"product_id\"] == row[\"product_id\"]]\n",
    "    if p.empty:\n",
    "        return np.nan\n",
    "    m = p[(p[\"start_date\"] <= row[\"timestamp\"]) & (p[\"end_date\"] >= row[\"timestamp\"])]\n",
    "    return m[\"promo_price\"].iloc[0] if len(m) else np.nan\n",
    "\n",
    "df[\"promo_price\"] = df.apply(promo_lookup_row, axis=1)\n",
    "df[\"effective_price\"] = np.where(df[\"promo_price\"].notna(), df[\"promo_price\"], df[\"unit_price\"])\n",
    "df[\"line_amount\"] = df[\"effective_price\"] * df[\"quantity\"]\n",
    "\n",
    "df[[\"unit_price\",\"promo_price\",\"effective_price\",\"quantity\",\"line_amount\"]].head()\n"
   ]
  },
  {
   "cell_type": "markdown",
   "id": "8dde1a6e-0417-4fbe-8238-848f45af11cd",
   "metadata": {},
   "source": [
    "**Explicație:** pentru fiecare tranzacție caut promo activ pentru acel `product_id` în intervalul `[start_date, end_date]`.  \n",
    "Dacă există, folosesc `promo_price` ca `effective_price`; altfel rămâne `unit_price`.\n"
   ]
  },
  {
   "cell_type": "code",
   "execution_count": 10,
   "id": "17701f4a-8ecf-4831-b16a-79f838327367",
   "metadata": {},
   "outputs": [
    {
     "data": {
      "text/plain": [
       "(683, 20)"
      ]
     },
     "execution_count": 10,
     "metadata": {},
     "output_type": "execute_result"
    }
   ],
   "source": [
    "df.to_parquet(PROCESSED/\"sales_clean.parquet\", index=False)\n",
    "df.sample(min(100, len(df))).to_csv(PROCESSED/\"sample_sales.csv\", index=False)\n",
    "df.shape\n"
   ]
  },
  {
   "cell_type": "markdown",
   "id": "b6246b01-cd18-4970-813f-96f848350c9e",
   "metadata": {},
   "source": [
    "**Explicație:** export setul curățat (Parquet) + un `sample_sales.csv` mic (ideal de urcat în Git).\n"
   ]
  },
  {
   "cell_type": "markdown",
   "id": "c5d1938d-d602-4787-be06-b36a91f12110",
   "metadata": {},
   "source": []
  },
  {
   "cell_type": "code",
   "execution_count": 12,
   "id": "fe80253d-3c17-4df2-985b-9b7836c1c7bd",
   "metadata": {},
   "outputs": [
    {
     "data": {
      "text/plain": [
       "customer_id        0.0\n",
       "product_id         0.0\n",
       "quantity           0.0\n",
       "effective_price    0.0\n",
       "timestamp          0.0\n",
       "dtype: float64"
      ]
     },
     "metadata": {},
     "output_type": "display_data"
    },
    {
     "data": {
      "text/plain": [
       "product_id\n",
       "P1026    2611.88\n",
       "P1013    2304.65\n",
       "P1018    2214.74\n",
       "P1031    2128.30\n",
       "P1020    2086.15\n",
       "Name: line_amount, dtype: float64"
      ]
     },
     "metadata": {},
     "output_type": "display_data"
    },
    {
     "data": {
      "text/plain": [
       "store\n",
       "Online      18282.88\n",
       "Store-01    17298.47\n",
       "Store-02    15903.59\n",
       "shop_03     13909.14\n",
       "            12286.76\n",
       "Name: line_amount, dtype: float64"
      ]
     },
     "metadata": {},
     "output_type": "display_data"
    }
   ],
   "source": [
    "# Rată lipsă pe câmpuri critice\n",
    "na_rates = df[[\"customer_id\",\"product_id\",\"quantity\",\"effective_price\",\"timestamp\"]].isna().mean().sort_values(ascending=False)\n",
    "display(na_rates)\n",
    "\n",
    "# Top 5 produse după sumă vândută\n",
    "top_products = df.groupby(\"product_id\")[\"line_amount\"].sum().sort_values(ascending=False).head(5)\n",
    "display(top_products)\n",
    "\n",
    "# Vânzări pe magazin\n",
    "sales_by_store = df.groupby(\"store\")[\"line_amount\"].sum().sort_values(ascending=False)\n",
    "display(sales_by_store.head(10))\n"
   ]
  },
  {
   "cell_type": "code",
   "execution_count": null,
   "id": "fff43b68-91fd-4561-b860-cc2c4429466f",
   "metadata": {},
   "outputs": [],
   "source": []
  }
 ],
 "metadata": {
  "kernelspec": {
   "display_name": "Python 3 (ipykernel)",
   "language": "python",
   "name": "python3"
  },
  "language_info": {
   "codemirror_mode": {
    "name": "ipython",
    "version": 3
   },
   "file_extension": ".py",
   "mimetype": "text/x-python",
   "name": "python",
   "nbconvert_exporter": "python",
   "pygments_lexer": "ipython3",
   "version": "3.12.2"
  }
 },
 "nbformat": 4,
 "nbformat_minor": 5
}
